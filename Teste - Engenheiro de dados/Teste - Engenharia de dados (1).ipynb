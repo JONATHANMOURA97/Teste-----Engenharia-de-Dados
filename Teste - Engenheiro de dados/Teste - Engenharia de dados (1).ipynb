{
 "cells": [
  {
   "cell_type": "code",
   "execution_count": 0,
   "metadata": {
    "application/vnd.databricks.v1+cell": {
     "cellMetadata": {
      "byteLimit": 2048000,
      "rowLimit": 10000
     },
     "inputWidgets": {},
     "nuid": "c34fbe42-010d-486a-b5d0-b666d98bd541",
     "showTitle": false,
     "title": ""
    }
   },
   "outputs": [
    {
     "output_type": "stream",
     "name": "stdout",
     "output_type": "stream",
     "text": [
      "+----------+----------+-------------------+--------+-----+-----+------------------+------+\n|      Date|   Product|           Category|Quantity|Price|Total|          Customer|Region|\n+----------+----------+-------------------+--------+-----+-----+------------------+------+\n|2020-09-17|Headphones|Categoria Incorreta|      -4| -150|  600|      Benjamin Fox|   Sul|\n|2023-11-02|Headphones|Categoria Incorreta|      -3| -150|  450|       Jill Farley| Leste|\n|2023-05-14|    Tablet|Categoria Incorreta|      -2| -500| 1000|   Alexandra Nixon| Leste|\n|2021-03-31|    Laptop|Categoria Incorreta|      -3|-1200| 3600|   Patricia Nguyen|   Sul|\n|2022-03-21|Smartphone|        Eletrônicos|       3|  800| 2400|       Mark Newman| Norte|\n|2022-11-10|Headphones|Categoria Incorreta|      -5| -150|  750|     Jeremy Foster|   Sul|\n|2021-03-25|    Laptop|        Eletrônicos|       5| 1200| 6000|  Steven Maldonado| Leste|\n|2021-02-14|Smartwatch|        Eletrônicos|       1|  300|  300|        Casey Lowe|   Sul|\n|2022-09-19|    Tablet|        Eletrônicos|       2|  500| 1000|      Richard Berg|   Sul|\n|2023-04-14|    Tablet|Categoria Incorreta|      -5| -500| 2500|   Miss Diane Hall|   Sul|\n|2021-07-12|    Tablet|        Eletrônicos|       3|  500| 1500|      Alfred Owens| Leste|\n|2022-03-16|    Tablet|Categoria Incorreta|      -3| -500| 1500|    Ashley Cabrera| Oeste|\n|2023-11-03|Headphones|Categoria Incorreta|      -3| -150|  450|Catherine Thompson| Norte|\n|2022-08-22|Headphones|        Eletrônicos|       5|  150|  750|      Andrew Scott| Norte|\n|2022-04-02|    Laptop|        Eletrônicos|       2| 1200| 2400|     Robert Stokes| Oeste|\n|2023-09-01|Smartphone|        Eletrônicos|       3|  800| 2400|       Harry Parks| Leste|\n|2022-11-21|    Laptop|        Eletrônicos|       5| 1200| 6000|    Katelyn Peters| Leste|\n|2023-09-07|Smartwatch|        Eletrônicos|       3|  300|  900|       Kevin Moore| Norte|\n|2023-05-17|Smartphone|Categoria Incorreta|      -1| -800|  800|    Krista Jenkins|   Sul|\n|2022-09-07|    Laptop|Categoria Incorreta|      -2|-1200| 2400| Sabrina Baker DDS| Oeste|\n+----------+----------+-------------------+--------+-----+-----+------------------+------+\nonly showing top 20 rows\n\n"
     ]
    }
   ],
   "source": [
    "from pyspark.sql import SparkSession\n",
    "\n",
    "# Iniciar a sessão do Spark\n",
    "spark = SparkSession.builder \\\n",
    "    .appName(\"Carregar Arquivo CSV\") \\\n",
    "    .getOrCreate()\n",
    "\n",
    "# Definir o caminho do arquivo CSV\n",
    "file_path = \"/FileStore/tables/sales_dataset.csv\"\n",
    "\n",
    "# Carregar o arquivo CSV em um DataFrame\n",
    "df = spark.read.csv(file_path, header=True, inferSchema=True)\n",
    "\n",
    "# Exibir as primeiras linhas do DataFrame\n",
    "df.show()"
   ]
  },
  {
   "cell_type": "code",
   "execution_count": 0,
   "metadata": {
    "application/vnd.databricks.v1+cell": {
     "cellMetadata": {
      "byteLimit": 2048000,
      "rowLimit": 10000
     },
     "inputWidgets": {},
     "nuid": "bb988519-7d60-48f0-8798-c90c0c26ef01",
     "showTitle": false,
     "title": ""
    }
   },
   "outputs": [
    {
     "output_type": "stream",
     "name": "stdout",
     "output_type": "stream",
     "text": [
      "+----------+----------+-----------+--------+------+------+------------------+------+\n|      Date|   Product|   Category|Quantity| Price| Total|          Customer|Region|\n+----------+----------+-----------+--------+------+------+------------------+------+\n|2020-09-17|Headphones|Eletrônicos|       1| 150.0| 600.0|      Benjamin Fox|   Sul|\n|2023-11-02|Headphones|Eletrônicos|       1| 150.0| 450.0|       Jill Farley| Leste|\n|2023-05-14|    Tablet|Eletrônicos|       1| 500.0|1000.0|   Alexandra Nixon| Leste|\n|2021-03-31|    Laptop|Eletrônicos|       1|1200.0|3600.0|   Patricia Nguyen|   Sul|\n|2022-03-21|Smartphone|Eletrônicos|       3| 800.0|2400.0|       Mark Newman| Norte|\n|2022-11-10|Headphones|Eletrônicos|       1| 150.0| 750.0|     Jeremy Foster|   Sul|\n|2021-03-25|    Laptop|Eletrônicos|       5|1200.0|6000.0|  Steven Maldonado| Leste|\n|2021-02-14|Smartwatch|Eletrônicos|       1| 300.0| 300.0|        Casey Lowe|   Sul|\n|2022-09-19|    Tablet|Eletrônicos|       2| 500.0|1000.0|      Richard Berg|   Sul|\n|2023-04-14|    Tablet|Eletrônicos|       1| 500.0|2500.0|   Miss Diane Hall|   Sul|\n|2021-07-12|    Tablet|Eletrônicos|       3| 500.0|1500.0|      Alfred Owens| Leste|\n|2022-03-16|    Tablet|Eletrônicos|       1| 500.0|1500.0|    Ashley Cabrera| Oeste|\n|2023-11-03|Headphones|Eletrônicos|       1| 150.0| 450.0|Catherine Thompson| Norte|\n|2022-08-22|Headphones|Eletrônicos|       5| 150.0| 750.0|      Andrew Scott| Norte|\n|2022-04-02|    Laptop|Eletrônicos|       2|1200.0|2400.0|     Robert Stokes| Oeste|\n|2023-09-01|Smartphone|Eletrônicos|       3| 800.0|2400.0|       Harry Parks| Leste|\n|2022-11-21|    Laptop|Eletrônicos|       5|1200.0|6000.0|    Katelyn Peters| Leste|\n|2023-09-07|Smartwatch|Eletrônicos|       3| 300.0| 900.0|       Kevin Moore| Norte|\n|2023-05-17|Smartphone|Eletrônicos|       1| 800.0| 800.0|    Krista Jenkins|   Sul|\n|2022-09-07|    Laptop|Eletrônicos|       1|1200.0|2400.0| Sabrina Baker DDS| Oeste|\n+----------+----------+-----------+--------+------+------+------------------+------+\nonly showing top 20 rows\n\n"
     ]
    }
   ],
   "source": [
    "from pyspark.sql.functions import col, regexp_replace, to_date, when\n",
    "from pyspark.sql.types import StringType, IntegerType, FloatType\n",
    "\n",
    "# Convertendo a coluna 'Date' para o tipo data\n",
    "df = df.withColumn(\"Date\", to_date(col(\"Date\")))\n",
    "\n",
    "# Tratamento de valores nulos\n",
    "df = df.fillna(0)  # Preenchendo valores nulos com 0\n",
    "\n",
    "# Aplicando regex simples na coluna 'Category'\n",
    "df = df.withColumn(\"Category\", when(col(\"Category\") != \"Eletrônicos\", \"Eletrônicos\").otherwise(col(\"Category\")))\n",
    "\n",
    "# Garantindo que na coluna 'Quantity' não tenha números negativos ou zero\n",
    "df = df.withColumn(\"Quantity\", when(col(\"Quantity\") <= 0, 1).otherwise(col(\"Quantity\")))\n",
    "\n",
    "# Garantindo que na coluna 'Price' não tenha números negativos\n",
    "df = df.withColumn(\"Price\", when(col(\"Price\") < 0, col(\"Price\") * -1).otherwise(col(\"Price\")))\n",
    "\n",
    "# Ajustando os tipos de dados\n",
    "df = df.withColumn(\"Product\", col(\"Product\").cast(StringType()))\n",
    "df = df.withColumn(\"Category\", col(\"Category\").cast(StringType()))\n",
    "df = df.withColumn(\"Quantity\", col(\"Quantity\").cast(IntegerType()))\n",
    "df = df.withColumn(\"Price\", col(\"Price\").cast(FloatType()))\n",
    "df = df.withColumn(\"Total\", col(\"Total\").cast(FloatType()))\n",
    "df = df.withColumn(\"Customer\", col(\"Customer\").cast(StringType()))\n",
    "df = df.withColumn(\"Region\", col(\"Region\").cast(StringType()))\n",
    "\n",
    "# Exibindo o dataframe\n",
    "df.show()"
   ]
  },
  {
   "cell_type": "code",
   "execution_count": 0,
   "metadata": {
    "application/vnd.databricks.v1+cell": {
     "cellMetadata": {
      "byteLimit": 2048000,
      "rowLimit": 10000
     },
     "inputWidgets": {},
     "nuid": "4025cee3-6658-46a0-adbc-7e12ca338f4c",
     "showTitle": false,
     "title": ""
    }
   },
   "outputs": [],
   "source": [
    "from pyspark.sql.functions import sum\n",
    "\n",
    "# Adiciona uma coluna calculada para o valor total de cada transação\n",
    "df = df.withColumn(\"TransactionTotal\", df[\"Quantity\"] * df[\"Price\"])\n",
    "\n",
    "# Agregua os dados para obter estatísticas de vendas por produto e por categoria\n",
    "sales_by_product = df.groupBy(\"Product\").agg(sum(\"Quantity\").alias(\"TotalQuantity\"), \n",
    "                                             sum(\"TransactionTotal\").alias(\"TotalRevenue\"))\n",
    "\n",
    "sales_by_category = df.groupBy(\"Category\").agg(sum(\"Quantity\").alias(\"TotalQuantity\"), \n",
    "                                               sum(\"TransactionTotal\").alias(\"TotalRevenue\"))\n",
    "\n",
    "# Salva os dados transformados e agregados em formato Parquet\n",
    "df.write.mode(\"overwrite\").parquet(\"/path/to/save/sales_data.parquet\")\n",
    "sales_by_product.write.mode(\"overwrite\").parquet(\"/path/to/save/sales_by_product.parquet\")\n",
    "sales_by_category.write.mode(\"overwrite\").parquet(\"/path/to/save/sales_by_category.parquet\")\n",
    "\n",
    "# Salva os mesmos dados em formato Delta Lake para aproveitar as funcionalidades adicionais\n",
    "df.write.mode(\"overwrite\").format(\"delta\").save(\"/path/to/save/sales_data_delta\")\n",
    "sales_by_product.write.mode(\"overwrite\").format(\"delta\").save(\"/path/to/save/sales_by_product_delta\")\n",
    "sales_by_category.write.mode(\"overwrite\").format(\"delta\").save(\"/path/to/save/sales_by_category_delta\")"
   ]
  },
  {
   "cell_type": "code",
   "execution_count": 0,
   "metadata": {
    "application/vnd.databricks.v1+cell": {
     "cellMetadata": {
      "byteLimit": 2048000,
      "rowLimit": 10000
     },
     "inputWidgets": {},
     "nuid": "8e604671-888d-4058-ad68-2de4b10d644b",
     "showTitle": false,
     "title": ""
    }
   },
   "outputs": [
    {
     "output_type": "stream",
     "name": "stdout",
     "output_type": "stream",
     "text": [
      "+------------------+--------+------+----------------+\n|          Customer|Quantity| Price|CustomerCategory|\n+------------------+--------+------+----------------+\n|     Robert Stokes|       2|1200.0|    BelowAverage|\n|   Alexandra Nixon|       1| 500.0|    BelowAverage|\n|        Casey Lowe|       1| 300.0|    AboveAverage|\n|      Benjamin Fox|       1| 150.0|    AboveAverage|\n|Catherine Thompson|       1| 150.0|    BelowAverage|\n|     Jeremy Foster|       1| 150.0|    BelowAverage|\n|       Harry Parks|       3| 800.0|    AboveAverage|\n|       Kevin Moore|       3| 300.0|    BelowAverage|\n|       Mark Nelson|       1| 300.0|    BelowAverage|\n|    Ashley Cabrera|       1| 500.0|    AboveAverage|\n|   Patricia Nguyen|       1|1200.0|    BelowAverage|\n|  Steven Maldonado|       5|1200.0|    BelowAverage|\n|   Miss Diane Hall|       1| 500.0|    BelowAverage|\n| Sabrina Baker DDS|       1|1200.0|    BelowAverage|\n|    Katelyn Peters|       5|1200.0|    AboveAverage|\n|       Jill Farley|       1| 150.0|    BelowAverage|\n|      Alfred Owens|       3| 500.0|    AboveAverage|\n|      Andrew Scott|       5| 150.0|    AboveAverage|\n|       Mark Newman|       3| 800.0|    BelowAverage|\n|    Krista Jenkins|       1| 800.0|    BelowAverage|\n+------------------+--------+------+----------------+\nonly showing top 20 rows\n\n"
     ]
    }
   ],
   "source": [
    "from pyspark.ml.clustering import KMeans\n",
    "from pyspark.ml.feature import VectorAssembler\n",
    "from pyspark.sql.functions import avg\n",
    "\n",
    "# Preparar os dados para o modelo K-means\n",
    "assembler = VectorAssembler(inputCols=[\"Quantity\", \"Price\"], outputCol=\"features\")\n",
    "data = assembler.transform(df)\n",
    "\n",
    "# Treinar o modelo K-means\n",
    "kmeans = KMeans(k=3, seed=1)  # Número de clusters (categorias) desejadas\n",
    "model = kmeans.fit(data)\n",
    "\n",
    "# Adicionar as previsões de cluster aos dados originais\n",
    "df_with_clusters = model.transform(data)\n",
    "\n",
    "# Calcular a média de quantidade comprada por cliente\n",
    "avg_quantity_per_customer = df_with_clusters.groupBy(\"Customer\").agg(avg(\"Quantity\").alias(\"AvgQuantity\"))\n",
    "\n",
    "# Definir a média global de quantidade comprada\n",
    "global_avg_quantity = df_with_clusters.agg(avg(\"Quantity\")).collect()[0][0]\n",
    "\n",
    "# Classificar os clientes em categorias com base na média de quantidade comprada\n",
    "df_with_clusters = df_with_clusters.join(avg_quantity_per_customer, \"Customer\", \"left_outer\")\n",
    "df_with_clusters = df_with_clusters.withColumn(\"CustomerCategory\",\n",
    "                                               when(col(\"AvgQuantity\") > global_avg_quantity, \"AboveAverage\")\n",
    "                                               .when(col(\"AvgQuantity\") < global_avg_quantity, \"BelowAverage\")\n",
    "                                               .otherwise(\"Average\"))\n",
    "\n",
    "# Exibir os resultados\n",
    "df_with_clusters.select(\"Customer\", \"Quantity\", \"Price\", \"CustomerCategory\").show()"
   ]
  },
  {
   "cell_type": "code",
   "execution_count": 0,
   "metadata": {
    "application/vnd.databricks.v1+cell": {
     "cellMetadata": {
      "byteLimit": 2048000,
      "rowLimit": 10000
     },
     "inputWidgets": {},
     "nuid": "27b5ccfc-b587-44f3-9313-904bdfdca5a8",
     "showTitle": false,
     "title": ""
    }
   },
   "outputs": [
    {
     "output_type": "stream",
     "name": "stdout",
     "output_type": "stream",
     "text": [
      "+--------------------+----------+----------+-----------+--------+-----+------+------+----------------+------------------+-----------+----------+------------------+----------------+\n|            Customer|      Date|   Product|   Category|Quantity|Price| Total|Region|TransactionTotal|         MovingAvg|   features|prediction|       AvgQuantity|CustomerCategory|\n+--------------------+----------+----------+-----------+--------+-----+------+------+----------------+------------------+-----------+----------+------------------+----------------+\n|           Amy Lopez|2020-01-01|Smartwatch|Eletrônicos|       5|300.0|1500.0| Leste|          1500.0|2.4285714285714284|[5.0,300.0]|         0|               2.1|    AboveAverage|\n|        Bobby Wilson|2020-01-01|Smartwatch|Eletrônicos|       3|300.0| 900.0| Leste|           900.0| 2.142857142857143|[3.0,300.0]|         0|1.8888888888888888|    BelowAverage|\n|     Jennifer Arnold|2020-01-01|Smartwatch|Eletrônicos|       3|300.0| 900.0|   Sul|           900.0|3.2857142857142856|[3.0,300.0]|         0|1.8333333333333333|    BelowAverage|\n|     Veronica Harvey|2020-01-01|Smartwatch|Eletrônicos|       2|300.0| 600.0| Leste|           600.0| 2.142857142857143|[2.0,300.0]|         0|               1.5|    BelowAverage|\n|        Calvin Davis|2020-01-01|Smartwatch|Eletrônicos|       4|300.0|1200.0| Leste|          1200.0| 2.857142857142857|[4.0,300.0]|         0|               2.5|    AboveAverage|\n|       Brenda Wagner|2020-01-01|Smartwatch|Eletrônicos|       2|300.0| 600.0| Leste|           600.0|               2.2|[2.0,300.0]|         0|             2.375|    AboveAverage|\n|       Erika Ramirez|2020-01-01|Smartwatch|Eletrônicos|       1|300.0| 300.0| Leste|           300.0|               2.0|[1.0,300.0]|         0|1.7142857142857142|    BelowAverage|\n|Miss Catherine Gr...|2020-01-01|Smartwatch|Eletrônicos|       4|300.0|1200.0|   Sul|          1200.0|3.2857142857142856|[4.0,300.0]|         0|               4.0|    AboveAverage|\n|      Deborah Hanson|2020-01-01|Smartwatch|Eletrônicos|       5|300.0|1500.0|   Sul|          1500.0|3.5714285714285716|[5.0,300.0]|         0|               2.0|    AboveAverage|\n|    Carmen Rodriguez|2020-01-01|Smartwatch|Eletrônicos|       1|300.0|1500.0| Oeste|           300.0|               2.0|[1.0,300.0]|         0|               1.0|    BelowAverage|\n|       Donald Fisher|2020-01-01|Smartwatch|Eletrônicos|       5|300.0|1500.0|   Sul|          1500.0|2.2857142857142856|[5.0,300.0]|         0|               2.0|    AboveAverage|\n|          Lisa Ayala|2020-01-01|Smartwatch|Eletrônicos|       1|300.0|1200.0| Norte|           300.0|1.8571428571428572|[1.0,300.0]|         0|1.6666666666666667|    BelowAverage|\n|     Nicholas Walker|2020-01-01|Smartwatch|Eletrônicos|       4|300.0|1200.0|   Sul|          1200.0|2.2857142857142856|[4.0,300.0]|         0|1.9655172413793103|    BelowAverage|\n|      Bruce Mckinney|2020-01-01|Smartwatch|Eletrônicos|       5|300.0|1500.0| Leste|          1500.0|               3.0|[5.0,300.0]|         0|               5.0|    AboveAverage|\n|       Timothy Smith|2020-01-01|Smartwatch|Eletrônicos|       1|300.0| 900.0| Oeste|           300.0|2.3333333333333335|[1.0,300.0]|         0|1.8728813559322033|    BelowAverage|\n|       Douglas Novak|2020-01-01|Smartwatch|Eletrônicos|       1|300.0| 300.0| Oeste|           300.0|               1.0|[1.0,300.0]|         0|               1.0|    BelowAverage|\n|      Bernard Rogers|2020-01-01|Smartwatch|Eletrônicos|       3|300.0| 900.0| Norte|           900.0|2.5714285714285716|[3.0,300.0]|         0|               3.0|    AboveAverage|\n|     Michelle Foster|2020-01-01|Smartwatch|Eletrônicos|       2|300.0| 600.0| Oeste|           600.0|              2.25|[2.0,300.0]|         0|2.3529411764705883|    AboveAverage|\n|         Jason Green|2020-01-01|Smartwatch|Eletrônicos|       1|300.0| 600.0|   Sul|           300.0| 2.857142857142857|[1.0,300.0]|         0|            1.8125|    BelowAverage|\n|      Michelle Brown|2020-01-01|Smartwatch|Eletrônicos|       1|300.0|1200.0| Norte|           300.0| 2.142857142857143|[1.0,300.0]|         0|1.9684210526315788|    BelowAverage|\n+--------------------+----------+----------+-----------+--------+-----+------+------+----------------+------------------+-----------+----------+------------------+----------------+\nonly showing top 20 rows\n\n"
     ]
    }
   ],
   "source": [
    "df_with_clusters.show()"
   ]
  },
  {
   "cell_type": "code",
   "execution_count": 0,
   "metadata": {
    "application/vnd.databricks.v1+cell": {
     "cellMetadata": {
      "byteLimit": 2048000,
      "implicitDf": true,
      "rowLimit": 10000
     },
     "inputWidgets": {},
     "nuid": "cd249493-e8e6-458b-91a8-80f5d81af195",
     "showTitle": false,
     "title": ""
    }
   },
   "outputs": [
    {
     "output_type": "stream",
     "name": "stdout",
     "output_type": "stream",
     "text": [
      "+----------------+---------+-------+\n|        col_name|data_type|comment|\n+----------------+---------+-------+\n|            Date|     date|   null|\n|         Product|   string|   null|\n|        Category|   string|   null|\n|        Quantity|      int|   null|\n|           Price|    float|   null|\n|           Total|    float|   null|\n|        Customer|   string|   null|\n|          Region|   string|   null|\n|TransactionTotal|    float|   null|\n|       MovingAvg|   double|   null|\n+----------------+---------+-------+\n\n"
     ]
    }
   ],
   "source": [
    "# Salva o DataFrame como uma tabela temporária (temporária para a sessão atual)\n",
    "df.createOrReplaceTempView(\"temp_table\")\n",
    "\n",
    "# Define o nome da tabela permanente no Databricks\n",
    "table_name = \"sales_data\"\n",
    "\n",
    "# Escreve o DataFrame para a tabela permanente no Databricks\n",
    "df.write.mode(\"overwrite\").saveAsTable(table_name)\n",
    "\n",
    "# Confirma a criação da tabela\n",
    "spark.sql(f\"DESCRIBE TABLE {table_name}\").show()"
   ]
  },
  {
   "cell_type": "code",
   "execution_count": 0,
   "metadata": {
    "application/vnd.databricks.v1+cell": {
     "cellMetadata": {
      "byteLimit": 2048000,
      "implicitDf": true,
      "rowLimit": 10000
     },
     "inputWidgets": {},
     "nuid": "59d720b1-d62e-4f02-bcaf-c3c63cfd3cf0",
     "showTitle": false,
     "title": ""
    }
   },
   "outputs": [
    {
     "output_type": "display_data",
     "data": {
      "text/html": [
       "<style scoped>\n",
       "  .table-result-container {\n",
       "    max-height: 300px;\n",
       "    overflow: auto;\n",
       "  }\n",
       "  table, th, td {\n",
       "    border: 1px solid black;\n",
       "    border-collapse: collapse;\n",
       "  }\n",
       "  th, td {\n",
       "    padding: 5px;\n",
       "  }\n",
       "  th {\n",
       "    text-align: left;\n",
       "  }\n",
       "</style><div class='table-result-container'><table class='table-result'><thead style='background-color: white'><tr><th>Product</th><th>TotalQuantity</th><th>TotalRevenue</th></tr></thead><tbody><tr><td>Laptop</td><td>400141</td><td>4.801692E8</td></tr><tr><td>Smartphone</td><td>400659</td><td>3.205272E8</td></tr><tr><td>Tablet</td><td>398907</td><td>1.994535E8</td></tr><tr><td>Smartwatch</td><td>398300</td><td>1.1949E8</td></tr><tr><td>Headphones</td><td>400337</td><td>6.005055E7</td></tr></tbody></table></div>"
      ]
     },
     "metadata": {
      "application/vnd.databricks.v1+output": {
       "addedWidgets": {},
       "aggData": [],
       "aggError": "",
       "aggOverflow": false,
       "aggSchema": [],
       "aggSeriesLimitReached": false,
       "aggType": "",
       "arguments": {},
       "columnCustomDisplayInfos": {},
       "data": [
        [
         "Laptop",
         400141,
         4.801692E8
        ],
        [
         "Smartphone",
         400659,
         3.205272E8
        ],
        [
         "Tablet",
         398907,
         1.994535E8
        ],
        [
         "Smartwatch",
         398300,
         1.1949E8
        ],
        [
         "Headphones",
         400337,
         6.005055E7
        ]
       ],
       "datasetInfos": [],
       "dbfsResultPath": null,
       "isJsonSchema": true,
       "metadata": {},
       "overflow": false,
       "plotOptions": {
        "customPlotOptions": {},
        "displayType": "table",
        "pivotAggregation": null,
        "pivotColumns": null,
        "xColumns": null,
        "yColumns": null
       },
       "removedWidgets": [],
       "schema": [
        {
         "metadata": "{}",
         "name": "Product",
         "type": "\"string\""
        },
        {
         "metadata": "{}",
         "name": "TotalQuantity",
         "type": "\"long\""
        },
        {
         "metadata": "{}",
         "name": "TotalRevenue",
         "type": "\"double\""
        }
       ],
       "type": "table"
      }
     },
     "output_type": "display_data"
    }
   ],
   "source": [
    "%sql\n",
    "SELECT Product, SUM(Quantity) AS TotalQuantity, SUM(TransactionTotal) AS TotalRevenue\n",
    "FROM sales_data\n",
    "GROUP BY Product\n",
    "ORDER BY TotalRevenue DESC;\n"
   ]
  },
  {
   "cell_type": "code",
   "execution_count": 0,
   "metadata": {
    "application/vnd.databricks.v1+cell": {
     "cellMetadata": {
      "byteLimit": 2048000,
      "rowLimit": 10000
     },
     "inputWidgets": {},
     "nuid": "911094b2-1796-4655-b23d-41a7d87c40e6",
     "showTitle": false,
     "title": ""
    }
   },
   "outputs": [
    {
     "output_type": "display_data",
     "data": {
      "image/png": "[encoded data removed]"
     },
     "metadata": {
      "application/vnd.databricks.v1+output": {
       "addedWidgets": {},
       "arguments": {},
       "data": "data:image/png;base64,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\n",
       "datasetInfos": [],
       "metadata": {},
       "removedWidgets": [],
       "type": "image"
      }
     },
     "output_type": "display_data"
    },
    {
     "output_type": "display_data",
     "data": {
      "image/png": "[encoded data removed]"
     },
     "metadata": {
      "application/vnd.databricks.v1+output": {
       "addedWidgets": {},
       "arguments": {},
       "data": "data:image/png;base64,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\n",
       "datasetInfos": [],
       "metadata": {},
       "removedWidgets": [],
       "type": "image"
      }
     },
     "output_type": "display_data"
    }
   ],
   "source": [
    "import matplotlib.pyplot as plt\n",
    "import seaborn as sns\n",
    "\n",
    "# Total de vendas por produto\n",
    "product_sales = spark.sql(\"\"\"\n",
    "    SELECT Product, SUM(Quantity) AS TotalQuantity\n",
    "    FROM sales_data\n",
    "    GROUP BY Product\n",
    "    ORDER BY TotalQuantity DESC\n",
    "\"\"\").toPandas()\n",
    "\n",
    "plt.figure(figsize=(10, 6))\n",
    "sns.barplot(x=\"TotalQuantity\", y=\"Product\", data=product_sales)\n",
    "plt.xlabel(\"Total Quantity\")\n",
    "plt.ylabel(\"Product\")\n",
    "plt.title(\"Total Sales by Product\")\n",
    "plt.show()\n",
    "\n",
    "# Total de vendas por categoria\n",
    "category_sales = spark.sql(\"\"\"\n",
    "    SELECT Category, SUM(Quantity) AS TotalQuantity\n",
    "    FROM sales_data\n",
    "    GROUP BY Category\n",
    "    ORDER BY TotalQuantity DESC\n",
    "\"\"\").toPandas()\n",
    "\n",
    "plt.figure(figsize=(10, 6))\n",
    "sns.barplot(x=\"TotalQuantity\", y=\"Category\", data=category_sales)\n",
    "plt.xlabel(\"Total Quantity\")\n",
    "plt.ylabel(\"Category\")\n",
    "plt.title(\"Total Sales by Category\")\n",
    "plt.show()\n"
   ]
  },
  {
   "cell_type": "code",
   "execution_count": 0,
   "metadata": {
    "application/vnd.databricks.v1+cell": {
     "cellMetadata": {},
     "inputWidgets": {},
     "nuid": "cea02b1e-05da-4db3-b9d3-70a6c30439d9",
     "showTitle": false,
     "title": ""
    }
   },
   "outputs": [],
   "source": []
  }
 ],
 "metadata": {
  "application/vnd.databricks.v1+notebook": {
   "dashboards": [],
   "language": "python",
   "notebookMetadata": {
    "mostRecentlyExecutedCommandWithImplicitDF": {
     "commandId": 2477982784249978,
     "dataframes": [
      "_sqldf"
     ]
    },
    "pythonIndentUnit": 4
   },
   "notebookName": "Teste - Engenharia de dados",
   "widgets": {}
  }
 },
 "nbformat": 4,
 "nbformat_minor": 0
}
