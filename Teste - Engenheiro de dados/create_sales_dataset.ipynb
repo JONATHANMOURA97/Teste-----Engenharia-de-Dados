{
 "cells": [
  {
   "cell_type": "code",
   "execution_count": 1,
   "metadata": {},
   "outputs": [
    {
     "name": "stdout",
     "output_type": "stream",
     "text": [
      "Dataset de vendas com 1 milhão de registros (50% com erros) foi salvo em: C:\\Users\\Lenovo\\Desktop\\Teste - Engenheiro de dados\\sales_dataset.csv\n"
     ]
    }
   ],
   "source": [
    "import pandas as pd\n",
    "import random\n",
    "from faker import Faker\n",
    "from datetime import datetime, timedelta\n",
    "\n",
    "# Inicializar Faker para gerar dados fictícios\n",
    "fake = Faker()\n",
    "\n",
    "# Função para gerar datas aleatórias dentro de um intervalo\n",
    "def generate_random_dates(start_date, end_date, n):\n",
    "    delta = end_date - start_date\n",
    "    random_dates = [start_date + timedelta(days=random.randint(0, delta.days)) for _ in range(n)]\n",
    "    return random_dates\n",
    "\n",
    "# Definir datas de início e fim para as vendas\n",
    "start_date = datetime(2020, 1, 1)\n",
    "end_date = datetime(2023, 12, 31)\n",
    "\n",
    "# Número de vendas a serem geradas (1 milhão)\n",
    "num_sales = 1000000\n",
    "\n",
    "# Gerar datas aleatórias para as vendas\n",
    "sale_dates = generate_random_dates(start_date, end_date, num_sales)\n",
    "\n",
    "# Lista de produtos\n",
    "products = ['Smartphone', 'Laptop', 'Tablet', 'Smartwatch', 'Headphones']\n",
    "\n",
    "# Lista de preços para cada produto\n",
    "prices = {'Smartphone': 800, 'Laptop': 1200, 'Tablet': 500, 'Smartwatch': 300, 'Headphones': 150}\n",
    "\n",
    "# Lista de categorias de produtos\n",
    "product_categories = {'Smartphone': 'Eletrônicos', 'Laptop': 'Eletrônicos', 'Tablet': 'Eletrônicos', \n",
    "                      'Smartwatch': 'Eletrônicos', 'Headphones': 'Eletrônicos'}\n",
    "\n",
    "# Lista de regiões\n",
    "regions = ['Norte', 'Sul', 'Leste', 'Oeste']\n",
    "\n",
    "# Gerar dados de vendas com algumas informações incorretas\n",
    "sales_data = []\n",
    "for date in sale_dates:\n",
    "    product = random.choice(products)\n",
    "    category = product_categories[product]\n",
    "    price = prices[product]\n",
    "    quantity = random.randint(1, 5)\n",
    "    total_price = price * quantity\n",
    "    # Introduzir algumas inconsistências nos dados com 50% de chance\n",
    "    if random.random() < 0.5:  # 50% de chance de introduzir dados incorretos\n",
    "        # Introduzir preço negativo\n",
    "        price = -price\n",
    "        # Introduzir quantidade negativa\n",
    "        quantity = -quantity\n",
    "        # Introduzir categoria incorreta\n",
    "        category = 'Categoria Incorreta'\n",
    "    customer_name = fake.name()\n",
    "    region = random.choice(regions)\n",
    "    sales_data.append([date, product, category, quantity, price, total_price, customer_name, region])\n",
    "\n",
    "# Criar DataFrame usando Pandas\n",
    "columns = ['Date', 'Product', 'Category', 'Quantity', 'Price', 'Total', 'Customer', 'Region']\n",
    "sales_df = pd.DataFrame(sales_data, columns=columns)\n",
    "\n",
    "# Salvar o DataFrame como um arquivo CSV\n",
    "file_path = r'C:\\Users\\Lenovo\\Desktop\\Teste - Engenheiro de dados\\sales_dataset.csv'\n",
    "sales_df.to_csv(file_path, index=False)\n",
    "\n",
    "print(\"Dataset de vendas com 1 milhão de registros (50% com erros) foi salvo em:\", file_path)\n"
   ]
  }
 ],
 "metadata": {
  "kernelspec": {
   "display_name": "Python 3",
   "language": "python",
   "name": "python3"
  },
  "language_info": {
   "codemirror_mode": {
    "name": "ipython",
    "version": 3
   },
   "file_extension": ".py",
   "mimetype": "text/x-python",
   "name": "python",
   "nbconvert_exporter": "python",
   "pygments_lexer": "ipython3",
   "version": "3.11.8"
  }
 },
 "nbformat": 4,
 "nbformat_minor": 2
}
